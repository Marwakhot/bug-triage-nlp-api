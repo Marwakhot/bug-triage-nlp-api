{
 "cells": [
  {
   "cell_type": "markdown",
   "id": "54c10376",
   "metadata": {},
   "source": [
    "### Goal\n",
    "The purpose of this notebook is to load the raw `Eclipse.csv` dataset, perform all necessary cleaning and preprocessing steps, and save a final, clean DataFrame. This clean data will be used in the next notebook for model training.\n",
    "\n",
    "### Key Steps:\n",
    "1.  Load the raw, semicolon-separated data.\n",
    "2.  Clean the text descriptions.\n",
    "3.  Analyze and simplify the `component` and `priority` target variables.\n",
    "4.  Save the final, analysis-ready dataset."
   ]
  },
  {
   "cell_type": "markdown",
   "id": "3b557568",
   "metadata": {},
   "source": [
    "### 1. Load Raw Data"
   ]
  },
  {
   "cell_type": "code",
   "execution_count": 20,
   "id": "747ee122",
   "metadata": {},
   "outputs": [
    {
     "name": "stdout",
     "output_type": "stream",
     "text": [
      "<class 'pandas.core.frame.DataFrame'>\n",
      "RangeIndex: 8478 entries, 0 to 8477\n",
      "Data columns (total 11 columns):\n",
      " #   Column  Non-Null Count  Dtype \n",
      "---  ------  --------------  ----- \n",
      " 0   bugID   8478 non-null   int64 \n",
      " 1   sd      8478 non-null   object\n",
      " 2   cl      8478 non-null   object\n",
      " 3   pd      8478 non-null   object\n",
      " 4   co      8478 non-null   object\n",
      " 5   rp      8478 non-null   object\n",
      " 6   os      8478 non-null   object\n",
      " 7   bs      8478 non-null   object\n",
      " 8   rs      7363 non-null   object\n",
      " 9   pr      8478 non-null   object\n",
      " 10  bsr     8478 non-null   object\n",
      "dtypes: int64(1), object(10)\n",
      "memory usage: 728.7+ KB\n"
     ]
    }
   ],
   "source": [
    "import pandas as pd\n",
    "\n",
    "raw_data_path = '../data/Eclipse.csv'\n",
    "\n",
    "# --- Helper Function for Cleaning Text ---\n",
    "def clean_text(s):\n",
    "    if pd.isna(s):\n",
    "        return \"\"\n",
    "    return str(s).lower().replace(\"\\n\",\" \").replace(\"\\r\",\" \")\n",
    "\n",
    "# Load the data into a pandas DataFrame\n",
    "df = pd.read_csv(file_path, on_bad_lines='skip', sep=';')\n",
    "df.info()\n"
   ]
  },
  {
   "cell_type": "markdown",
   "id": "ddc4340e",
   "metadata": {},
   "source": [
    "NOTE: THIS IS WHAT THE COLUMN SHORT-FORMS STAND FOR\n",
    "- bugID - This is the unique identification number for each bug report.\n",
    "- sd: Short Description - The title or summary of the bug. (most important)\n",
    "- cl: Classification - The general category of the software.\n",
    "- pd: Product - The specific software product where the bug was found.\n",
    "- co: Component - The particular part of the product or the team responsible for it.(what the model will predict)\n",
    "- rp: Reporter - The person who submitted the bug report.\n",
    "- os: Operating System - The OS on which the bug was discovered (e.g., Windows, macOS, Linux).\n",
    "- bs: Bug Severity - This describes the impact of the bug on the system (e.g., critical, major, minor, trivial).\n",
    "- rs: Resolution Status - This shows the final outcome of the bug report (e.g., FIXED, WONTFIX, DUPLICATE).\n",
    "- pr: Priority - This indicates how urgently the bug should be fixed (e.g., P1, P2, P3)."
   ]
  },
  {
   "cell_type": "markdown",
   "id": "de72eb0e",
   "metadata": {},
   "source": [
    "### 2. Clean and Prepare Data"
   ]
  },
  {
   "cell_type": "code",
   "execution_count": 21,
   "id": "f43e53dd",
   "metadata": {},
   "outputs": [
    {
     "name": "stdout",
     "output_type": "stream",
     "text": [
      "Text cleaned and target variables prepared.\n"
     ]
    }
   ],
   "source": [
    "# Clean the main text column\n",
    "df['sd'] = df['sd'].apply(clean_text)\n",
    "\n",
    "# Simplify the 'co' (component) column by grouping rare categories\n",
    "target_col_co = df['co'].dropna()\n",
    "threshold_co = 50\n",
    "value_counts_co = target_col_co.value_counts()\n",
    "to_replace_co = value_counts_co[value_counts_co < threshold_co].index\n",
    "df['target_co_simplified'] = df['co'].replace(to_replace_co, 'Other').astype(str)\n",
    "\n",
    "# Prepare the 'pr' (priority) column\n",
    "df['target_pr_simplified'] = df['pr'].astype(str)\n",
    "\n",
    "print(\"Text cleaned and target variables prepared.\")"
   ]
  },
  {
   "cell_type": "markdown",
   "id": "9ab6bbb6",
   "metadata": {},
   "source": [
    "### 3. Save the Clean Data"
   ]
  },
  {
   "cell_type": "code",
   "execution_count": 22,
   "id": "9ff13499",
   "metadata": {},
   "outputs": [
    {
     "name": "stdout",
     "output_type": "stream",
     "text": [
      "Clean data successfully saved to ../data/cleaned_bug_reports.csv\n",
      "Final shape of the clean dataset: (8478, 6)\n"
     ]
    }
   ],
   "source": [
    "# Define all columns that need to be carried over\n",
    "features_to_use = ['sd', 'pd', 'os', 'bs']\n",
    "all_needed_columns = features_to_use + ['target_co_simplified', 'target_pr_simplified']\n",
    "\n",
    "# Create the final clean DataFrame\n",
    "df_clean = df[all_needed_columns].dropna()\n",
    "\n",
    "# Save the clean data to a new file\n",
    "CLEAN_DATA_PATH = '../data/cleaned_bug_reports.csv'\n",
    "df_clean.to_csv(CLEAN_DATA_PATH, index=False)\n",
    "\n",
    "print(f\"Clean data successfully saved to {CLEAN_DATA_PATH}\")\n",
    "print(f\"Final shape of the clean dataset: {df_clean.shape}\")"
   ]
  }
 ],
 "metadata": {
  "kernelspec": {
   "display_name": ".venv",
   "language": "python",
   "name": "python3"
  },
  "language_info": {
   "codemirror_mode": {
    "name": "ipython",
    "version": 3
   },
   "file_extension": ".py",
   "mimetype": "text/x-python",
   "name": "python",
   "nbconvert_exporter": "python",
   "pygments_lexer": "ipython3",
   "version": "3.12.5"
  }
 },
 "nbformat": 4,
 "nbformat_minor": 5
}
