{
 "cells": [
  {
   "cell_type": "markdown",
   "id": "54c10376",
   "metadata": {},
   "source": [
    "### This notebook details on the preparation of the data to be fed into the model.\n",
    "\n",
    "First, we'll load the raw `Eclipse.csv` dataset and handle potential parsing errors and explore the initial structure to understand our features."
   ]
  },
  {
   "cell_type": "code",
   "execution_count": 2,
   "id": "747ee122",
   "metadata": {},
   "outputs": [
    {
     "name": "stdout",
     "output_type": "stream",
     "text": [
      "    bugID                                                 sd  \\\n",
      "0  550000            PDE quickfix creates invalid @Since tag   \n",
      "1  550001  Grant access to projects storage service to th...   \n",
      "2  550002               Add relation information to REST-API   \n",
      "3  550003  Provide platform independent plug-in to set th...   \n",
      "4  550004  Inline method refacting reports \"Inaccurate re...   \n",
      "\n",
      "                   cl         pd          co   rp     os        bs  \\\n",
      "0     Eclipse Project        PDE   API Tools   PC  Linux  VERIFIED   \n",
      "1  Eclipse Foundation  Community  CI-Jenkins   PC  Linux    CLOSED   \n",
      "2          Automotive      MDMBL     General  All    All    CLOSED   \n",
      "3     Eclipse Project   Platform          UI   PC  Linux    CLOSED   \n",
      "4     Eclipse Project        JDT          UI   PC  Linux  RESOLVED   \n",
      "\n",
      "           rs  pr     bsr  \n",
      "0       FIXED  P3  normal  \n",
      "1   DUPLICATE  P3  normal  \n",
      "2       FIXED  P3   major  \n",
      "3   DUPLICATE  P3  normal  \n",
      "4  WORKSFORME  P3  normal  \n"
     ]
    }
   ],
   "source": [
    "import pandas as pd\n",
    "\n",
    "file_path = '../data/Eclipse.csv'\n",
    "\n",
    "# Load the data into a pandas DataFrame\n",
    "df = pd.read_csv(file_path, on_bad_lines='skip', sep=';')\n",
    "\n",
    "# Look at the first 5 rows\n",
    "print(df.head())"
   ]
  },
  {
   "cell_type": "code",
   "execution_count": 3,
   "id": "9e9b6396",
   "metadata": {},
   "outputs": [
    {
     "name": "stdout",
     "output_type": "stream",
     "text": [
      "Index(['bugID', 'sd', 'cl', 'pd', 'co', 'rp', 'os', 'bs', 'rs', 'pr', 'bsr'], dtype='object')\n"
     ]
    }
   ],
   "source": [
    "print(df.columns)"
   ]
  },
  {
   "cell_type": "markdown",
   "id": "ddc4340e",
   "metadata": {},
   "source": [
    "NOTE: THIS IS WHAT THE COLUMN SHORT-FORMS STAND FOR\n",
    "- bugID - This is the unique identification number for each bug report.\n",
    "- sd: Short Description - The title or summary of the bug. (most important)\n",
    "- cl: Classification - The general category of the software.\n",
    "- pd: Product - The specific software product where the bug was found.\n",
    "- co: Component - The particular part of the product or the team responsible for it.(what the model will predict)\n",
    "- rp: Reporter - The person who submitted the bug report.\n",
    "- os: Operating System - The OS on which the bug was discovered (e.g., Windows, macOS, Linux).\n",
    "- bs: Bug Severity - This describes the impact of the bug on the system (e.g., critical, major, minor, trivial).\n",
    "- rs: Resolution Status - This shows the final outcome of the bug report (e.g., FIXED, WONTFIX, DUPLICATE).\n",
    "- pr: Priority - This indicates how urgently the bug should be fixed (e.g., P1, P2, P3)."
   ]
  },
  {
   "cell_type": "code",
   "execution_count": 4,
   "id": "9ff13499",
   "metadata": {},
   "outputs": [
    {
     "name": "stdout",
     "output_type": "stream",
     "text": [
      "Data prepared!\n",
      "Number of bug reports: 8478\n"
     ]
    }
   ],
   "source": [
    "# Selecting features (X) and (y)\n",
    "df_clean = df[['sd', 'co']].copy()\n",
    "\n",
    "# Drop rows where either the description or the component is missing\n",
    "df_clean.dropna(inplace=True)\n",
    "\n",
    "# Assign to X and y\n",
    "X = df_clean['sd']\n",
    "y = df_clean['co']\n",
    "\n",
    "print(\"Data prepared!\")\n",
    "print(f\"Number of bug reports: {len(X)}\")"
   ]
  },
  {
   "cell_type": "markdown",
   "id": "f6c1b0b6",
   "metadata": {},
   "source": [
    "### Splitting the data into:\n",
    "- **Training set** → used by the model to learn patterns.  \n",
    "- **Testing set** → used to evaluate how well the model performs on new data.  "
   ]
  },
  {
   "cell_type": "code",
   "execution_count": 5,
   "id": "edc1132b",
   "metadata": {},
   "outputs": [
    {
     "name": "stdout",
     "output_type": "stream",
     "text": [
      "Training set size: 6782\n",
      "Testing set size: 1696\n"
     ]
    }
   ],
   "source": [
    "from sklearn.model_selection import train_test_split\n",
    "\n",
    "# Split the data into training and testing sets\n",
    "X_train, X_test, y_train, y_test = train_test_split(X, y, test_size=0.2, random_state=42)\n",
    "\n",
    "print(f\"Training set size: {len(X_train)}\")\n",
    "print(f\"Testing set size: {len(X_test)}\")"
   ]
  },
  {
   "cell_type": "markdown",
   "id": "1c3a60d4",
   "metadata": {},
   "source": [
    "### Converting Text to Numerical Features (TF-IDF)\n",
    "\n",
    "Machine learning models can’t work directly with raw text.  \n",
    "We use **TF-IDF (Term Frequency–Inverse Document Frequency)** to turn text into numerical feature vectors.\n"
   ]
  },
  {
   "cell_type": "code",
   "execution_count": 6,
   "id": "97bf1efc",
   "metadata": {},
   "outputs": [
    {
     "name": "stdout",
     "output_type": "stream",
     "text": [
      "Text data has been vectorized!\n",
      "Shape of the training data vectors: (6782, 5000)\n"
     ]
    }
   ],
   "source": [
    "from sklearn.feature_extraction.text import TfidfVectorizer\n",
    "\n",
    "# Initialize the TF-IDF Vectorizer\n",
    "tfidf_vectorizer = TfidfVectorizer(stop_words='english', max_features=5000)\n",
    "\n",
    "# Learn the vocabulary from the training data and transform it\n",
    "X_train_tfidf = tfidf_vectorizer.fit_transform(X_train)\n",
    "\n",
    "# Transform the test data using the same learned vocabulary\n",
    "X_test_tfidf = tfidf_vectorizer.transform(X_test)\n",
    "\n",
    "print(\"Text data has been vectorized!\")\n",
    "print(f\"Shape of the training data vectors: {X_train_tfidf.shape}\")"
   ]
  }
 ],
 "metadata": {
  "kernelspec": {
   "display_name": ".venv",
   "language": "python",
   "name": "python3"
  },
  "language_info": {
   "codemirror_mode": {
    "name": "ipython",
    "version": 3
   },
   "file_extension": ".py",
   "mimetype": "text/x-python",
   "name": "python",
   "nbconvert_exporter": "python",
   "pygments_lexer": "ipython3",
   "version": "3.12.5"
  }
 },
 "nbformat": 4,
 "nbformat_minor": 5
}
